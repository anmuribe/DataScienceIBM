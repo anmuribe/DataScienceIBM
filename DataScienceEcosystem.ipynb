{
  "nbformat": 4,
  "nbformat_minor": 0,
  "metadata": {
    "colab": {
      "provenance": [],
      "authorship_tag": "ABX9TyMFEokZDl6rGZpfHmFtSqej",
      "include_colab_link": true
    },
    "kernelspec": {
      "name": "python3",
      "display_name": "Python 3"
    },
    "language_info": {
      "name": "python"
    }
  },
  "cells": [
    {
      "cell_type": "markdown",
      "metadata": {
        "id": "view-in-github",
        "colab_type": "text"
      },
      "source": [
        "<a href=\"https://colab.research.google.com/github/anmuribe/DataScienceIBM/blob/main/DataScienceEcosystem.ipynb\" target=\"_parent\"><img src=\"https://colab.research.google.com/assets/colab-badge.svg\" alt=\"Open In Colab\"/></a>"
      ]
    },
    {
      "cell_type": "markdown",
      "source": [
        "### Exercise 2"
      ],
      "metadata": {
        "id": "sbNIE4CSW2Ao"
      }
    },
    {
      "cell_type": "markdown",
      "source": [
        "#Data Science Tools and Ecosystem"
      ],
      "metadata": {
        "id": "aWu2dzkdWhh6"
      }
    },
    {
      "cell_type": "markdown",
      "source": [
        "### Exercise 3"
      ],
      "metadata": {
        "id": "UoPfuq3UW6PZ"
      }
    },
    {
      "cell_type": "markdown",
      "source": [
        "## In this notebook, Data Science Tools and Ecosystem are summarized."
      ],
      "metadata": {
        "id": "oSeskJbaXD0h"
      }
    },
    {
      "cell_type": "markdown",
      "source": [
        "### Exercise 4"
      ],
      "metadata": {
        "id": "hptQPRNUYWn1"
      }
    },
    {
      "cell_type": "markdown",
      "source": [
        "## Some of the popular languages that Data Scientists use are:\n",
        "\n",
        "\n",
        "1. Python.\n",
        "2. R.\n",
        "3. SQL.\n",
        "4. Java.\n",
        "5. JavaScript.\n",
        "6. Stata. (Not expained on videos but worth mentioning).\n",
        "\n",
        "\n",
        "\n"
      ],
      "metadata": {
        "id": "G-yaaEbPYbv4"
      }
    },
    {
      "cell_type": "markdown",
      "source": [
        "### Exercise 5\n"
      ],
      "metadata": {
        "id": "_h_TkQENZAGG"
      }
    },
    {
      "cell_type": "markdown",
      "source": [
        "## Some of the commonly used libraries used by Data Scientists include:\n",
        "1. Matplotlib.\n",
        "2. Pandas.\n",
        "3. Keras.\n",
        "4. TensorFlow.\n",
        "5. SciPy."
      ],
      "metadata": {
        "id": "lQiofEUCZcwQ"
      }
    },
    {
      "cell_type": "markdown",
      "source": [
        "### Exercise 6\n"
      ],
      "metadata": {
        "id": "clA1U_d2gg7f"
      }
    },
    {
      "cell_type": "markdown",
      "source": [
        "|Data Science Tools|\n",
        "|---|\n",
        "1. Hadoop.\n",
        "2. Spark.\n",
        "3. TensorFlow.js.\n"
      ],
      "metadata": {
        "id": "fmspOPYPg1tZ"
      }
    },
    {
      "cell_type": "markdown",
      "source": [
        "### Exercise 7"
      ],
      "metadata": {
        "id": "sIBdnRTti87f"
      }
    },
    {
      "cell_type": "markdown",
      "source": [
        "### Below are a few examples of evaluating arithmetic expressions in Python:\n"
      ],
      "metadata": {
        "id": "1oFHhPiijAEP"
      }
    },
    {
      "cell_type": "code",
      "source": [
        "(15*20)/2"
      ],
      "metadata": {
        "colab": {
          "base_uri": "https://localhost:8080/"
        },
        "id": "ZTIX0meSmaN4",
        "outputId": "5f3e84ce-5f53-4800-8251-222905ad461c"
      },
      "execution_count": 1,
      "outputs": [
        {
          "output_type": "execute_result",
          "data": {
            "text/plain": [
              "150.0"
            ]
          },
          "metadata": {},
          "execution_count": 1
        }
      ]
    },
    {
      "cell_type": "markdown",
      "source": [
        "### Exercise 9"
      ],
      "metadata": {
        "id": "M-oRE4_vmko4"
      }
    },
    {
      "cell_type": "code",
      "source": [
        "#This a simple arithmetic expression to mutiply then add integers\n",
        "(3*4)+5 "
      ],
      "metadata": {
        "colab": {
          "base_uri": "https://localhost:8080/"
        },
        "id": "jHrmXqRDmm84",
        "outputId": "c47c4ed5-2256-4230-8cc5-3a77363b3c7c"
      },
      "execution_count": 2,
      "outputs": [
        {
          "output_type": "execute_result",
          "data": {
            "text/plain": [
              "17"
            ]
          },
          "metadata": {},
          "execution_count": 2
        }
      ]
    },
    {
      "cell_type": "markdown",
      "source": [
        "### Exercise 10\n"
      ],
      "metadata": {
        "id": "h_4zG5yhnpco"
      }
    },
    {
      "cell_type": "code",
      "source": [
        "#This will convert 200 minutes to hours by diving by 60\n",
        "200/60"
      ],
      "metadata": {
        "colab": {
          "base_uri": "https://localhost:8080/"
        },
        "id": "OPS0_enknsKG",
        "outputId": "01b0dd33-b6aa-48aa-8ae9-3cdd0d751a6a"
      },
      "execution_count": 4,
      "outputs": [
        {
          "output_type": "execute_result",
          "data": {
            "text/plain": [
              "3.3333333333333335"
            ]
          },
          "metadata": {},
          "execution_count": 4
        }
      ]
    },
    {
      "cell_type": "markdown",
      "source": [
        "### Exercise 11\n"
      ],
      "metadata": {
        "id": "yMfpeNL2n-sJ"
      }
    },
    {
      "cell_type": "markdown",
      "source": [
        "### **Objectives**:\n",
        "\n",
        "\n",
        "*   List popular languages for Data Science.\n",
        "*   Explain some of the most popular Data Science Tools.\n",
        "*   Review the definition of Data Science.\n",
        "*   Give a brief introduction to AI and Machine Learning concepts.\n",
        "\n"
      ],
      "metadata": {
        "id": "40Cv3OoDoXTv"
      }
    },
    {
      "cell_type": "markdown",
      "source": [
        "### Exercise 12"
      ],
      "metadata": {
        "id": "LU2YKBy8qDiz"
      }
    },
    {
      "cell_type": "markdown",
      "source": [
        "## Author\n",
        "# Andrés Uribe"
      ],
      "metadata": {
        "id": "BLBgN8JYqF3I"
      }
    },
    {
      "cell_type": "code",
      "source": [],
      "metadata": {
        "id": "i1McwdN1WxX8"
      },
      "execution_count": null,
      "outputs": []
    }
  ]
}